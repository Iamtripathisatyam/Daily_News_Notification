{
 "cells": [
  {
   "cell_type": "markdown",
   "id": "ad8df690",
   "metadata": {},
   "source": [
    "# DAILY NEWS\n",
    "*****"
   ]
  },
  {
   "cell_type": "markdown",
   "id": "046dd771",
   "metadata": {},
   "source": [
    "#### To run this Python script follow the below installation\n",
    "         $ pip install pycountry\n",
    "     $ pip install pywebio\n",
    "         $ pip install newsapi-python\n",
    "*****"
   ]
  },
  {
   "cell_type": "markdown",
   "id": "c76b3e97",
   "metadata": {},
   "source": [
    "### Step #1:\n",
    "* Firstly, get the **API** key from [**NewsAPI**](https://newsapi.org/docs/get-started) to begin extracting news articles.\n",
    "* **import** following modules\n"
   ]
  },
  {
   "cell_type": "code",
   "execution_count": 1,
   "id": "65cfaf31",
   "metadata": {},
   "outputs": [],
   "source": [
    "from newsapi import NewsApiClient\n",
    "import time\n",
    "import pycountry\n",
    "from pywebio.input import *\n",
    "from pywebio.output import *\n",
    "from pywebio.session import *"
   ]
  },
  {
   "cell_type": "markdown",
   "id": "4f7f1352",
   "metadata": {},
   "source": [
    "* Initializing a variable for the **NewsAPI**"
   ]
  },
  {
   "cell_type": "code",
   "execution_count": 5,
   "id": "54c3c967",
   "metadata": {},
   "outputs": [],
   "source": [
    "newsapi = NewsApiClient(api_key='Your API Key')"
   ]
  },
  {
   "cell_type": "markdown",
   "id": "b7c66227",
   "metadata": {},
   "source": [
    "* Taking **Country name** input and **check** whether country name is valid or not, and **required=True** means field can't be empty."
   ]
  },
  {
   "cell_type": "code",
   "execution_count": null,
   "id": "015b19db",
   "metadata": {},
   "outputs": [],
   "source": [
    "input_country = input(\"Country: \",required=True, validate=Check)"
   ]
  },
  {
   "cell_type": "markdown",
   "id": "2511f4c8",
   "metadata": {},
   "source": [
    "******\n",
    "### Step #2:\n",
    "* Function to check whether **Country name** is valid or not.\n",
    "  * At first, It will check for the **white spaces** in input country name, If found then **remove** the spaces using **strip()** function.\n",
    "  * Make a blank Dictionary for storing all the **Country names** and their **ISO Codes**.\n",
    "  * If Input Country is not in Dictionary then return a **Error Message**."
   ]
  },
  {
   "cell_type": "code",
   "execution_count": 8,
   "id": "3e688039",
   "metadata": {},
   "outputs": [],
   "source": [
    "def Check(input_countries):\n",
    "    input_countries = [input_countries.strip()]\n",
    "\n",
    "    countries = {}\n",
    "    for country in pycountry.countries:\n",
    "        countries[country.name] = country.alpha_2\n",
    "\n",
    "    codes = [countries.get(country.title(), 'NO')\n",
    "             for country in input_countries]\n",
    "    if codes[0] == \"NO\":\n",
    "        return \"Country not found, Try searching...\"\n",
    "    return None"
   ]
  },
  {
   "cell_type": "markdown",
   "id": "c5b7ffd4",
   "metadata": {},
   "source": [
    "*****\n",
    "### Step #3:\n",
    "* Giving category of news, including **Business**, **Entertainment**, **General** news, and so on."
   ]
  },
  {
   "cell_type": "code",
   "execution_count": null,
   "id": "25356393",
   "metadata": {},
   "outputs": [],
   "source": [
    "a = radio(\"Which category are you interested in?\",\n",
    "                  options=['Business', 'Entertainment', 'General', 'Health',\n",
    "                           'Science', 'Technology'], required=True)"
   ]
  },
  {
   "cell_type": "markdown",
   "id": "926ff9b0",
   "metadata": {},
   "source": [
    "* Extracting a Dictionary of top headlines, including **articles**, **title**, and so on."
   ]
  },
  {
   "cell_type": "code",
   "execution_count": null,
   "id": "10479749",
   "metadata": {},
   "outputs": [],
   "source": [
    "top_headlines = newsapi.get_top_headlines(\n",
    "            category=f'{a.lower()}', language='en', country=f'{codes[0].lower()}')"
   ]
  },
  {
   "cell_type": "markdown",
   "id": "342b198c",
   "metadata": {},
   "source": [
    "* Now extract **articles** from **top headlines**.\n",
    "* If Headlines is **None** that means **no article found**, then return a **Not found!** message."
   ]
  },
  {
   "cell_type": "code",
   "execution_count": null,
   "id": "3af9bf29",
   "metadata": {},
   "outputs": [],
   "source": [
    "Headlines = top_headlines['articles']"
   ]
  },
  {
   "cell_type": "markdown",
   "id": "a2b2b269",
   "metadata": {},
   "source": [
    "* Loop for printing **Top Headline**s with **POP-UP** window."
   ]
  },
  {
   "cell_type": "code",
   "execution_count": null,
   "id": "d43c8672",
   "metadata": {},
   "outputs": [],
   "source": [
    "for articles in Headlines:\n",
    "    b = articles['title'][::-1].index(\"-\")\n",
    "    if \"news\" in (articles['title'][-b+1:]).lower():\n",
    "        popup(f\"{articles['title'][-b+1:]}\", [put_html(\"<h4>\"f\"{articles['title'][:-b-2]}.\"\"</h4>\"), put_buttons(\n",
    "            ['Close'], onclick=lambda _: close_popup())], implicit_close=True)\n",
    "        time.sleep(3)\n",
    "    else:\n",
    "        popup(f\"{articles['title'][-b+1:]} News\", [put_html(\"<h4>\"f\"{articles['title'][:-b-2]}.\"\"</h4>\"), put_buttons(\n",
    "            ['Close'], onclick=lambda _: close_popup())], implicit_close=True)\n",
    "        time.sleep(3)"
   ]
  },
  {
   "cell_type": "markdown",
   "id": "e4777a12",
   "metadata": {},
   "source": [
    "******\n",
    "# Complete Code:"
   ]
  },
  {
   "cell_type": "code",
   "execution_count": null,
   "id": "436d2982",
   "metadata": {},
   "outputs": [],
   "source": [
    "from newsapi import NewsApiClient\n",
    "import time\n",
    "import pycountry\n",
    "from pywebio.input import *\n",
    "from pywebio.output import *\n",
    "from pywebio.session import *\n",
    "\n",
    "\n",
    "def Check(input_countries):\n",
    "    input_countries = [input_countries.strip()]\n",
    "\n",
    "    countries = {}\n",
    "    for country in pycountry.countries:\n",
    "        countries[country.name] = country.alpha_2\n",
    "\n",
    "    codes = [countries.get(country.title(), 'NO')\n",
    "             for country in input_countries]\n",
    "    if codes[0] == \"NO\":\n",
    "        return \"Country not found, Try searching...\"\n",
    "    return None\n",
    "\n",
    "\n",
    "def progress():\n",
    "    put_html(\"<p align=\"\"center\"\"><img src=\"\"https://media.tenor.com/images/6399c69d68f8e6351e599e0db88f665e/tenor.gif\"\" width=\"\"120px\"\"></p>\")\n",
    "    time.sleep(3)\n",
    "    clear()\n",
    "    logo()\n",
    "\n",
    "\n",
    "def logo():\n",
    "    put_html(\"<p align=\"\"left\"\"><h4><img src=\"\"https://icons.iconarchive.com/icons/dailyoverview/tv/128/television-15-icon.png\"\" width=\"\"28px\"\"> DAILY NEWS</h4></p>\")\n",
    "\n",
    "\n",
    "toast('DAILY NEWS APPLICATION', position='center',\n",
    "      color='#469F70', duration=3, onclick=clear)\n",
    "time.sleep(3)\n",
    "\n",
    "if __name__ == \"__main__\":\n",
    "    while 1:\n",
    "        clear()\n",
    "        logo()\n",
    "        newsapi = NewsApiClient(api_key='0864a52124954666bb3e1fd0f7fbb1e6')\n",
    "\n",
    "        input_country = input(\"\", placeholder=\"Country\",\n",
    "                              required=True, validate=Check)\n",
    "        progress()\n",
    "        input_countries = [f'{input_country.strip()}']\n",
    "\n",
    "        countries = {}\n",
    "\n",
    "        for country in pycountry.countries:\n",
    "            countries[country.name] = country.alpha_2\n",
    "\n",
    "        codes = [countries.get(country.title(), 'Unknown code')\n",
    "                 for country in input_countries]\n",
    "\n",
    "        option = radio(\"Which category are you interested in?\",\n",
    "                       options=['Business', 'Entertainment', 'General', 'Health',\n",
    "                                'Science', 'Technology'], required=True)\n",
    "        progress()\n",
    "        top_headlines = newsapi.get_top_headlines(\n",
    "            category=f'{option.lower()}', language='en', country=f'{codes[0].lower()}')\n",
    "\n",
    "        Headlines = top_headlines['articles']\n",
    "        if Headlines:\n",
    "            for articles in Headlines:\n",
    "                b = articles['title'][::-1].index(\"-\")\n",
    "                if \"news\" in (articles['title'][-b+1:]).lower():\n",
    "                    popup(f\"{articles['title'][-b+1:]}\", [put_html(\"<h4>\"f\"{articles['title'][:-b-2]}.\"\"</h4>\"), put_buttons(\n",
    "                        ['Close'], onclick=lambda _: close_popup())], implicit_close=True)\n",
    "                    time.sleep(3)\n",
    "                else:\n",
    "                    popup(f\"{articles['title'][-b+1:]} News\", [put_html(\"<h4>\"f\"{articles['title'][:-b-2]}.\"\"</h4>\"), put_buttons(\n",
    "                        ['Close'], onclick=lambda _: close_popup())], implicit_close=True)\n",
    "                    time.sleep(3)\n",
    "        else:\n",
    "            put_error(\n",
    "                f\"No articles found for {input_country}, Try for others...\", closable=True)\n",
    "            time.sleep(3)\n",
    "            clear()\n",
    "        clear()\n",
    "        logo()\n",
    "        option = radio(\"Do you want to search again?\",\n",
    "                       options=['Yes', 'No'], required=True)\n",
    "        if option == 'Yes':\n",
    "            continue\n",
    "        else:\n",
    "            toast(\"Thanks for visiting!\")\n",
    "            exit()"
   ]
  },
  {
   "cell_type": "markdown",
   "id": "6dea130c",
   "metadata": {},
   "source": [
    "## Happy coding!\n",
    "\n",
    "____________________________\n",
    "<p><b>&copy;</b> 2021 Satyam Tripathi</p>"
   ]
  }
 ],
 "metadata": {
  "kernelspec": {
   "display_name": "Python 3",
   "language": "python",
   "name": "python3"
  },
  "language_info": {
   "codemirror_mode": {
    "name": "ipython",
    "version": 3
   },
   "file_extension": ".py",
   "mimetype": "text/x-python",
   "name": "python",
   "nbconvert_exporter": "python",
   "pygments_lexer": "ipython3",
   "version": "3.8.3"
  }
 },
 "nbformat": 4,
 "nbformat_minor": 5
}
